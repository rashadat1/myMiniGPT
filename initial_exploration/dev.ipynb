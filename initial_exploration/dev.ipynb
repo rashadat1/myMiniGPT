{
 "cells": [
  {
   "cell_type": "code",
   "execution_count": 3,
   "metadata": {},
   "outputs": [],
   "source": [
    "import pandas as pd\n",
    "import os\n",
    "\n",
    "with open('/Users/tarikrashada/Projects/myMiniGPT/data/nietzsche.txt','r') as f:\n",
    "    text = f.read()"
   ]
  },
  {
   "cell_type": "code",
   "execution_count": 4,
   "metadata": {},
   "outputs": [
    {
     "name": "stdout",
     "output_type": "stream",
     "text": [
      "600901\n"
     ]
    }
   ],
   "source": [
    "print(len(text))"
   ]
  },
  {
   "cell_type": "code",
   "execution_count": 6,
   "metadata": {},
   "outputs": [
    {
     "name": "stdout",
     "output_type": "stream",
     "text": [
      "\n",
      " !\"'(),-.0123456789:;=?ABCDEFGHIJKLMNOPQRSTUVWXYZ[]_abcdefghijklmnopqrstuvwxyz¤¦©«Ã†\n",
      "85\n"
     ]
    }
   ],
   "source": [
    "chars = sorted(list(set(text)))\n",
    "vocab_size = len(chars)\n",
    "print(''.join(chars))\n",
    "print(vocab_size)"
   ]
  },
  {
   "cell_type": "code",
   "execution_count": 8,
   "metadata": {},
   "outputs": [],
   "source": [
    "# these are the possible characters are model can emit. \n",
    "# We need to develop a strategy to tokenize the text - \n",
    "# convert the raw text to some sequence of integers according \n",
    "# to some vocabulary\n",
    "\n",
    "# the simplest tokenization procedure would be character tokenization\n",
    "# in practice LLMs have tokenizers that are optimized a lot better\n",
    "# our character tokenizer will only have 85 integers but real\n",
    "# tokenizers like tiktoken produce 10s of thousands of tokens"
   ]
  },
  {
   "cell_type": "code",
   "execution_count": 12,
   "metadata": {},
   "outputs": [],
   "source": [
    "char_to_int_map = {char : i for i,char in enumerate(chars)}\n",
    "int_to_char_map = {i : char for i,char in enumerate(chars)}\n",
    "def encode(s):\n",
    "    return [char_to_int_map[s[i]] for i in range(len(s))]\n",
    "def decode(int_list):\n",
    "    return ''.join([int_to_char_map[k] for k in int_list])"
   ]
  },
  {
   "cell_type": "code",
   "execution_count": 16,
   "metadata": {},
   "outputs": [
    {
     "data": {
      "text/plain": [
       "600901"
      ]
     },
     "execution_count": 16,
     "metadata": {},
     "output_type": "execute_result"
    }
   ],
   "source": [
    "import torch\n",
    "data = torch.tensor(encode(text),dtype=torch.long)\n",
    "# data is the complete tokenized text"
   ]
  },
  {
   "cell_type": "code",
   "execution_count": 18,
   "metadata": {},
   "outputs": [],
   "source": [
    "# we will now split the data into train and validation sets. We will make the first 90% of the data\n",
    "# train and the rest will be for validation\n",
    "num = int(0.9*len(data))\n",
    "train_data = data[:num]\n",
    "val_data = data[num:]"
   ]
  },
  {
   "cell_type": "code",
   "execution_count": 19,
   "metadata": {},
   "outputs": [
    {
     "data": {
      "text/plain": [
       "tensor([39, 41, 28, 29, 24, 26, 28,  0,  0,  0, 42, 44, 39, 39, 38, 42, 32, 37,\n",
       "        30,  1, 72, 60, 53, 72,  1, 43, 70, 73, 72, 60,  1, 61, 71])"
      ]
     },
     "execution_count": 19,
     "metadata": {},
     "output_type": "execute_result"
    }
   ],
   "source": [
    "# next we need to break the train data into context windows and also batches \n",
    "batch_size = 16\n",
    "context_length = 32\n",
    "\n",
    "train_data[:context_length+1]"
   ]
  },
  {
   "cell_type": "code",
   "execution_count": 20,
   "metadata": {},
   "outputs": [
    {
     "name": "stdout",
     "output_type": "stream",
     "text": [
      "The context tensor([39]) is used to predict target: 41\n",
      "The context tensor([39, 41]) is used to predict target: 28\n",
      "The context tensor([39, 41, 28]) is used to predict target: 29\n",
      "The context tensor([39, 41, 28, 29]) is used to predict target: 24\n",
      "The context tensor([39, 41, 28, 29, 24]) is used to predict target: 26\n",
      "The context tensor([39, 41, 28, 29, 24, 26]) is used to predict target: 28\n",
      "The context tensor([39, 41, 28, 29, 24, 26, 28]) is used to predict target: 0\n",
      "The context tensor([39, 41, 28, 29, 24, 26, 28,  0]) is used to predict target: 0\n",
      "The context tensor([39, 41, 28, 29, 24, 26, 28,  0,  0]) is used to predict target: 0\n",
      "The context tensor([39, 41, 28, 29, 24, 26, 28,  0,  0,  0]) is used to predict target: 42\n",
      "The context tensor([39, 41, 28, 29, 24, 26, 28,  0,  0,  0, 42]) is used to predict target: 44\n",
      "The context tensor([39, 41, 28, 29, 24, 26, 28,  0,  0,  0, 42, 44]) is used to predict target: 39\n",
      "The context tensor([39, 41, 28, 29, 24, 26, 28,  0,  0,  0, 42, 44, 39]) is used to predict target: 39\n",
      "The context tensor([39, 41, 28, 29, 24, 26, 28,  0,  0,  0, 42, 44, 39, 39]) is used to predict target: 38\n",
      "The context tensor([39, 41, 28, 29, 24, 26, 28,  0,  0,  0, 42, 44, 39, 39, 38]) is used to predict target: 42\n",
      "The context tensor([39, 41, 28, 29, 24, 26, 28,  0,  0,  0, 42, 44, 39, 39, 38, 42]) is used to predict target: 32\n",
      "The context tensor([39, 41, 28, 29, 24, 26, 28,  0,  0,  0, 42, 44, 39, 39, 38, 42, 32]) is used to predict target: 37\n",
      "The context tensor([39, 41, 28, 29, 24, 26, 28,  0,  0,  0, 42, 44, 39, 39, 38, 42, 32, 37]) is used to predict target: 30\n",
      "The context tensor([39, 41, 28, 29, 24, 26, 28,  0,  0,  0, 42, 44, 39, 39, 38, 42, 32, 37,\n",
      "        30]) is used to predict target: 1\n",
      "The context tensor([39, 41, 28, 29, 24, 26, 28,  0,  0,  0, 42, 44, 39, 39, 38, 42, 32, 37,\n",
      "        30,  1]) is used to predict target: 72\n",
      "The context tensor([39, 41, 28, 29, 24, 26, 28,  0,  0,  0, 42, 44, 39, 39, 38, 42, 32, 37,\n",
      "        30,  1, 72]) is used to predict target: 60\n",
      "The context tensor([39, 41, 28, 29, 24, 26, 28,  0,  0,  0, 42, 44, 39, 39, 38, 42, 32, 37,\n",
      "        30,  1, 72, 60]) is used to predict target: 53\n",
      "The context tensor([39, 41, 28, 29, 24, 26, 28,  0,  0,  0, 42, 44, 39, 39, 38, 42, 32, 37,\n",
      "        30,  1, 72, 60, 53]) is used to predict target: 72\n",
      "The context tensor([39, 41, 28, 29, 24, 26, 28,  0,  0,  0, 42, 44, 39, 39, 38, 42, 32, 37,\n",
      "        30,  1, 72, 60, 53, 72]) is used to predict target: 1\n",
      "The context tensor([39, 41, 28, 29, 24, 26, 28,  0,  0,  0, 42, 44, 39, 39, 38, 42, 32, 37,\n",
      "        30,  1, 72, 60, 53, 72,  1]) is used to predict target: 43\n",
      "The context tensor([39, 41, 28, 29, 24, 26, 28,  0,  0,  0, 42, 44, 39, 39, 38, 42, 32, 37,\n",
      "        30,  1, 72, 60, 53, 72,  1, 43]) is used to predict target: 70\n",
      "The context tensor([39, 41, 28, 29, 24, 26, 28,  0,  0,  0, 42, 44, 39, 39, 38, 42, 32, 37,\n",
      "        30,  1, 72, 60, 53, 72,  1, 43, 70]) is used to predict target: 73\n",
      "The context tensor([39, 41, 28, 29, 24, 26, 28,  0,  0,  0, 42, 44, 39, 39, 38, 42, 32, 37,\n",
      "        30,  1, 72, 60, 53, 72,  1, 43, 70, 73]) is used to predict target: 72\n",
      "The context tensor([39, 41, 28, 29, 24, 26, 28,  0,  0,  0, 42, 44, 39, 39, 38, 42, 32, 37,\n",
      "        30,  1, 72, 60, 53, 72,  1, 43, 70, 73, 72]) is used to predict target: 60\n",
      "The context tensor([39, 41, 28, 29, 24, 26, 28,  0,  0,  0, 42, 44, 39, 39, 38, 42, 32, 37,\n",
      "        30,  1, 72, 60, 53, 72,  1, 43, 70, 73, 72, 60]) is used to predict target: 1\n",
      "The context tensor([39, 41, 28, 29, 24, 26, 28,  0,  0,  0, 42, 44, 39, 39, 38, 42, 32, 37,\n",
      "        30,  1, 72, 60, 53, 72,  1, 43, 70, 73, 72, 60,  1]) is used to predict target: 61\n",
      "The context tensor([39, 41, 28, 29, 24, 26, 28,  0,  0,  0, 42, 44, 39, 39, 38, 42, 32, 37,\n",
      "        30,  1, 72, 60, 53, 72,  1, 43, 70, 73, 72, 60,  1, 61]) is used to predict target: 71\n"
     ]
    }
   ],
   "source": [
    "# this is the first 17 characters. When we sample a chunk of data like this, this actually has multiple\n",
    "# examples packed. We want our transformer to be able to make predictions with contexts of length up to 32\n",
    "\n",
    "# it should still be able to make predictions with a context of less than this. E.g.\n",
    "\n",
    "for t in range(context_length):\n",
    "    x = data[:t+1]\n",
    "    y = data[t+1]\n",
    "    \n",
    "    print(f\"The context {x} is used to predict target: {y}\")"
   ]
  },
  {
   "cell_type": "code",
   "execution_count": 23,
   "metadata": {},
   "outputs": [],
   "source": [
    "# so context length is the maximum context length for predictions while batch_size is the number of\n",
    "# independent sequences processed in parallel\n",
    "\n",
    "def generate_batch(split):\n",
    "    data = train_data if split == 'train' else val_data\n",
    "    # generate batch size number of random positions between 0 and len(data) - context_length\n",
    "    xi = torch.randint(len(data) - context_length, (batch_size,))\n",
    "    # the first 'context_length' characters starting at i\n",
    "    x = torch.stack([data[i:i + context_length] for i in xi])\n",
    "    # the y's are the offset 1 of this\n",
    "    y = torch.stack([data[i + 1: i + 1 + context_length] for i in xi])\n",
    "    return x,y\n",
    "\n",
    "# y gives us the correct answer for every position in x (it is the next token that we would be predicting)"
   ]
  },
  {
   "cell_type": "code",
   "execution_count": 33,
   "metadata": {},
   "outputs": [],
   "source": [
    "import torch\n",
    "import torch.nn as nn\n",
    "from torch.nn import functional as F\n",
    "\n",
    "\n",
    "class BigramLanguageModel(nn.Module):\n",
    "    \n",
    "    def __init__(self,vocab_size):\n",
    "        super().__init__()\n",
    "        self.embedding_lookup = nn.Embedding(vocab_size, vocab_size)\n",
    "    # thin wrapper where we basically convert each integer in our input to the integer-th row of the\n",
    "    # embedding matrix\n",
    "    def forward(self, input, targets=None):\n",
    "        logits = self.embedding_lookup(input) # <- shape is (batch_size, context_length, vocab_size)\n",
    "        \n",
    "        if targets is None:\n",
    "            loss = None\n",
    "        else:\n",
    "            B, T, C = logits.shape\n",
    "            logits = logits.view(B * T, C)\n",
    "            targets = targets.view(B * T)\n",
    "            loss = F.cross_entropy(logits, targets)\n",
    "            \n",
    "        return logits, loss\n",
    "        # because the final dimension is vocab size we can interpret this to be the scores or logits for the\n",
    "        # next char in the sequence - for each of the inputs we have vocab_size scores because there are\n",
    "        # batch_size * context_length predictions\n",
    "    def generate(self, input, max_new_tokens):\n",
    "        for _ in range(max_new_tokens):\n",
    "            # get predictions\n",
    "            logits, _ = self(input)\n",
    "            # focus on last time step because this is the prediction using the entire context window\n",
    "            logits = logits[:,-1,:]\n",
    "            # softmax to get probabilities\n",
    "            probs = F.softmax(logits, dim=-1)\n",
    "            # sample from distribution to get 1 sample\n",
    "            next = torch.multinomial(probs, num_samples=1) # <- (batch_size, 1)\n",
    "            input = torch.cat((input, next), dim=1) # <- (B, context_length + 1) concatenate the new token\n",
    "        return input\n",
    "            "
   ]
  },
  {
   "cell_type": "code",
   "execution_count": 25,
   "metadata": {},
   "outputs": [],
   "source": [
    "xb, yb = generate_batch('train')"
   ]
  },
  {
   "cell_type": "code",
   "execution_count": 34,
   "metadata": {},
   "outputs": [
    {
     "name": "stdout",
     "output_type": "stream",
     "text": [
      "torch.Size([512, 85])\n",
      "tensor(4.9363, grad_fn=<NllLossBackward0>)\n"
     ]
    }
   ],
   "source": [
    "Bigram = BigramLanguageModel(vocab_size)\n",
    "logits, loss = Bigram(xb,yb)\n",
    "print(logits.shape)\n",
    "print(loss)"
   ]
  },
  {
   "cell_type": "code",
   "execution_count": 36,
   "metadata": {},
   "outputs": [
    {
     "data": {
      "text/plain": [
       "'\\n70.I†dqr1M\"A©SnJE.jvO\\n0.:ePXFL]-1c ¦C¤FsIdPt:;mK†KAxi!Hyd_CqR\\'ed¦T=nwRwlqm7HUB«9K\\nDvEaP©!JjFy41\"oqdW'"
      ]
     },
     "execution_count": 36,
     "metadata": {},
     "output_type": "execute_result"
    }
   ],
   "source": [
    "output = torch.zeros((1,1),dtype=torch.long)\n",
    "decode(Bigram.generate(output,max_new_tokens=100)[0].tolist())\n",
    "# the output is random because the embedding weights are initially random"
   ]
  },
  {
   "cell_type": "code",
   "execution_count": null,
   "metadata": {},
   "outputs": [],
   "source": [
    "optimizer = torch.optim.AdamW(Bigram.parameters(), lr=1e-3)"
   ]
  },
  {
   "cell_type": "code",
   "execution_count": 44,
   "metadata": {},
   "outputs": [],
   "source": [
    "# train Bigram\n",
    "\n",
    "\n",
    "batch_size\n",
    "for steps in range(10000):\n",
    "    xb, yb = generate_batch('train')\n",
    "    # evaluate loss\n",
    "    logits, loss = Bigram(xb,yb)\n",
    "    optimizer.zero_grad(set_to_none=True)\n",
    "    loss.backward()\n",
    "    optimizer.step()"
   ]
  },
  {
   "cell_type": "code",
   "execution_count": 45,
   "metadata": {},
   "outputs": [
    {
     "data": {
      "text/plain": [
       "'\\nt\\ndaino indehereyedoncuiongealymoulycitheinooclurvess thedd ors: the cobldererere-drata ly shin\\n1793'"
      ]
     },
     "execution_count": 45,
     "metadata": {},
     "output_type": "execute_result"
    }
   ],
   "source": [
    "decode(Bigram.generate(output,max_new_tokens=100)[0].tolist())"
   ]
  }
 ],
 "metadata": {
  "kernelspec": {
   "display_name": "base",
   "language": "python",
   "name": "python3"
  },
  "language_info": {
   "codemirror_mode": {
    "name": "ipython",
    "version": 3
   },
   "file_extension": ".py",
   "mimetype": "text/x-python",
   "name": "python",
   "nbconvert_exporter": "python",
   "pygments_lexer": "ipython3",
   "version": "3.11.7"
  }
 },
 "nbformat": 4,
 "nbformat_minor": 2
}
